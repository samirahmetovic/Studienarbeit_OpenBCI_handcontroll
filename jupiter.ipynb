{
 "cells": [
  {
   "cell_type": "code",
   "execution_count": 4,
   "metadata": {},
   "outputs": [
    {
     "data": {
      "application/vnd.jupyter.widget-view+json": {
       "model_id": "81d1fc3447704676bc47110319fa3a15",
       "version_major": 2,
       "version_minor": 0
      },
      "text/plain": [
       "Renderer(camera=PerspectiveCamera(position=(3.0, 3.0, 3.0), projectionMatrix=(1.0, 0.0, 0.0, 0.0, 0.0, 1.0, 0.…"
      ]
     },
     "metadata": {},
     "output_type": "display_data"
    }
   ],
   "source": [
    "import numpy as np\n",
    "import pythreejs as p3\n",
    "from IPython.display import display\n",
    "\n",
    "# Define a simple hand model using basic shapes\n",
    "def create_hand_model():\n",
    "    hand = p3.Object3D()\n",
    "    \n",
    "    palm = p3.Mesh(p3.BoxBufferGeometry(1, 0.2, 1.5), p3.MeshStandardMaterial(color='pink'))\n",
    "    hand.add(palm)\n",
    "    \n",
    "    for i in range(5):\n",
    "        finger = p3.Mesh(p3.BoxBufferGeometry(0.2, 0.2, 1), p3.MeshStandardMaterial(color='pink'))\n",
    "        finger.position = (-0.4 + 0.2 * i, 0.8, 0.5)\n",
    "        hand.add(finger)\n",
    "    \n",
    "    return hand\n",
    "\n",
    "\n",
    "# Create a scene with the hand model\n",
    "scene = p3.Scene()\n",
    "hand_model = create_hand_model()\n",
    "scene.add(hand_model)\n",
    "\n",
    "# Set up lighting and camera\n",
    "camera = p3.PerspectiveCamera(position=[3, 3, 3], lookAt=[0, 0, 0], aspect=1)\n",
    "key_light = p3.DirectionalLight(position=[0, 10, 10])\n",
    "ambient_light = p3.AmbientLight(intensity=0.5)\n",
    "scene.add(key_light)\n",
    "scene.add(ambient_light)\n",
    "\n",
    "# Create a renderer and display the scene\n",
    "renderer = p3.Renderer(scene, camera, controls=[p3.OrbitControls(controlling=camera)])\n",
    "display(renderer)\n",
    "\n",
    "import time\n",
    "\n",
    "def animate_hand(prediction):\n",
    "    # Adjust the hand model based on the prediction value (0: open, 1: close)\n",
    "    for i, finger in enumerate(hand_model.children[1:]):\n",
    "        target_y = 0.8 - 0.6 * prediction\n",
    "        finger.position = (finger.position[0], finger.position[1] + (target_y - finger.position[1]) * 0.1, finger.position[2])\n",
    "\n",
    "# Example of animating the hand based on random predictions\n",
    "for _ in range(30):\n",
    "    prediction = np.random.random()\n",
    "    animate_hand(prediction)\n",
    "    time.sleep(0.1)\n"
   ]
  },
  {
   "cell_type": "code",
   "execution_count": null,
   "metadata": {},
   "outputs": [],
   "source": []
  }
 ],
 "metadata": {
  "kernelspec": {
   "display_name": "venv",
   "language": "python",
   "name": "python3"
  },
  "language_info": {
   "codemirror_mode": {
    "name": "ipython",
    "version": 3
   },
   "file_extension": ".py",
   "mimetype": "text/x-python",
   "name": "python",
   "nbconvert_exporter": "python",
   "pygments_lexer": "ipython3",
   "version": "3.10.2"
  },
  "orig_nbformat": 4
 },
 "nbformat": 4,
 "nbformat_minor": 2
}
